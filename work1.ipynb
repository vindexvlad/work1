{
 "cells": [
  {
   "cell_type": "code",
   "execution_count": 1,
   "metadata": {},
   "outputs": [],
   "source": [
    "import tkinter\n",
    "import mymean\n",
    "import mymediana\n",
    "from tkinter import messagebox\n",
    "ww = tkinter.Tk()\n",
    "ww.title(\"Vin_dow\")\n",
    "ww.geometry('500x500')\n",
    "\n",
    "\n",
    "def umn():\n",
    "    \n",
    "    e  = E1.get()\n",
    "    lst = list(map(float, e.split()))\n",
    "    L4['text'] = 'Максимальное:', max(lst)\n",
    "    L5['text'] = 'Минимальное:', min(lst)\n",
    "    L2['text'] = 'Среднее:', mymean.mean(lst)\n",
    "    L3['text'] = 'Медиана:', mymediana.mediana(lst)\n",
    "\n",
    "    \n",
    "    \n",
    "  \n",
    "\n",
    "\n",
    "\n",
    "\n",
    "\n",
    "\n",
    "L1 = tkinter.Label(text='Введите массив чисел', font=('Times New Roman', 15, 'bold'))\n",
    "\n",
    "L2 = tkinter.Label(text='Среднее:', font=('Times New Roman', 15, 'bold'))\n",
    "L3 = tkinter.Label(text='Медиана:', font=('Times New Roman', 15, 'bold'))\n",
    "L4 = tkinter.Label(text='Максимальное:', font=('Times New Roman', 15, 'bold'))\n",
    "L5 = tkinter.Label(text='Минимальное:', font=('Times New Roman', 15, 'bold'))\n",
    "E1 = tkinter.Entry(font=('Times New Roman', 20, 'bold'), bg='White',fg='Black')\n",
    "\n",
    "\n",
    "\n",
    "\n",
    "B1 = tkinter.Button(text='Посчитать', font=('Times New Roman', 20, 'bold'), bg='White',fg='Black',activebackground='Black',activeforeground='White',command= umn)\n",
    "\n",
    "L1.place(x=250, y=70, anchor= 'center')\n",
    "E1.place(x=250, y=170, anchor= 'center')\n",
    "B1.place(x=250, y=270, anchor= 'center')\n",
    "L2.place(x=250, y=320, anchor= 'center')\n",
    "L3.place(x=250, y=370, anchor= 'center')\n",
    "L4.place(x=250, y=420, anchor= 'center')\n",
    "L5.place(x=250, y=470, anchor= 'center')\n",
    "\n",
    "\n",
    "ww.mainloop()"
   ]
  }
 ],
 "metadata": {
  "kernelspec": {
   "display_name": "Python 3",
   "language": "python",
   "name": "python3"
  },
  "language_info": {
   "codemirror_mode": {
    "name": "ipython",
    "version": 3
   },
   "file_extension": ".py",
   "mimetype": "text/x-python",
   "name": "python",
   "nbconvert_exporter": "python",
   "pygments_lexer": "ipython3",
   "version": "3.10.10 (tags/v3.10.10:aad5f6a, Feb  7 2023, 17:20:36) [MSC v.1929 64 bit (AMD64)]"
  },
  "orig_nbformat": 4,
  "vscode": {
   "interpreter": {
    "hash": "c813ac0529ad8aa3a599245ec8cf1c2004d94139568d269f9c5835e56f8fa2b6"
   }
  }
 },
 "nbformat": 4,
 "nbformat_minor": 2
}
